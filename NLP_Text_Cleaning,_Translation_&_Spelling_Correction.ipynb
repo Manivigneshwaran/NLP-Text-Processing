{
  "cells": [
    {
      "cell_type": "code",
      "execution_count": null,
      "id": "792227c7",
      "metadata": {
        "id": "792227c7"
      },
      "outputs": [],
      "source": [
        "import pandas as pd"
      ]
    },
    {
      "cell_type": "code",
      "execution_count": null,
      "id": "4095d050",
      "metadata": {
        "id": "4095d050"
      },
      "outputs": [],
      "source": [
        "df = pd.read_csv('English.csv')"
      ]
    },
    {
      "cell_type": "code",
      "execution_count": null,
      "id": "846fc935",
      "metadata": {
        "colab": {
          "base_uri": "https://localhost:8080/",
          "height": 206
        },
        "id": "846fc935",
        "outputId": "b5f9772a-8cbb-4940-a404-ccab7c5d8090"
      },
      "outputs": [
        {
          "output_type": "execute_result",
          "data": {
            "text/plain": [
              "  English words/sentences\n",
              "0                     Hi.\n",
              "1                    Run!\n",
              "2                    Run!\n",
              "3                    Who?\n",
              "4                    Wow!"
            ],
            "text/html": [
              "\n",
              "  <div id=\"df-1b78dc67-c13e-4cab-8cf6-88e1fbc69a82\">\n",
              "    <div class=\"colab-df-container\">\n",
              "      <div>\n",
              "<style scoped>\n",
              "    .dataframe tbody tr th:only-of-type {\n",
              "        vertical-align: middle;\n",
              "    }\n",
              "\n",
              "    .dataframe tbody tr th {\n",
              "        vertical-align: top;\n",
              "    }\n",
              "\n",
              "    .dataframe thead th {\n",
              "        text-align: right;\n",
              "    }\n",
              "</style>\n",
              "<table border=\"1\" class=\"dataframe\">\n",
              "  <thead>\n",
              "    <tr style=\"text-align: right;\">\n",
              "      <th></th>\n",
              "      <th>English words/sentences</th>\n",
              "    </tr>\n",
              "  </thead>\n",
              "  <tbody>\n",
              "    <tr>\n",
              "      <th>0</th>\n",
              "      <td>Hi.</td>\n",
              "    </tr>\n",
              "    <tr>\n",
              "      <th>1</th>\n",
              "      <td>Run!</td>\n",
              "    </tr>\n",
              "    <tr>\n",
              "      <th>2</th>\n",
              "      <td>Run!</td>\n",
              "    </tr>\n",
              "    <tr>\n",
              "      <th>3</th>\n",
              "      <td>Who?</td>\n",
              "    </tr>\n",
              "    <tr>\n",
              "      <th>4</th>\n",
              "      <td>Wow!</td>\n",
              "    </tr>\n",
              "  </tbody>\n",
              "</table>\n",
              "</div>\n",
              "      <button class=\"colab-df-convert\" onclick=\"convertToInteractive('df-1b78dc67-c13e-4cab-8cf6-88e1fbc69a82')\"\n",
              "              title=\"Convert this dataframe to an interactive table.\"\n",
              "              style=\"display:none;\">\n",
              "        \n",
              "  <svg xmlns=\"http://www.w3.org/2000/svg\" height=\"24px\"viewBox=\"0 0 24 24\"\n",
              "       width=\"24px\">\n",
              "    <path d=\"M0 0h24v24H0V0z\" fill=\"none\"/>\n",
              "    <path d=\"M18.56 5.44l.94 2.06.94-2.06 2.06-.94-2.06-.94-.94-2.06-.94 2.06-2.06.94zm-11 1L8.5 8.5l.94-2.06 2.06-.94-2.06-.94L8.5 2.5l-.94 2.06-2.06.94zm10 10l.94 2.06.94-2.06 2.06-.94-2.06-.94-.94-2.06-.94 2.06-2.06.94z\"/><path d=\"M17.41 7.96l-1.37-1.37c-.4-.4-.92-.59-1.43-.59-.52 0-1.04.2-1.43.59L10.3 9.45l-7.72 7.72c-.78.78-.78 2.05 0 2.83L4 21.41c.39.39.9.59 1.41.59.51 0 1.02-.2 1.41-.59l7.78-7.78 2.81-2.81c.8-.78.8-2.07 0-2.86zM5.41 20L4 18.59l7.72-7.72 1.47 1.35L5.41 20z\"/>\n",
              "  </svg>\n",
              "      </button>\n",
              "      \n",
              "  <style>\n",
              "    .colab-df-container {\n",
              "      display:flex;\n",
              "      flex-wrap:wrap;\n",
              "      gap: 12px;\n",
              "    }\n",
              "\n",
              "    .colab-df-convert {\n",
              "      background-color: #E8F0FE;\n",
              "      border: none;\n",
              "      border-radius: 50%;\n",
              "      cursor: pointer;\n",
              "      display: none;\n",
              "      fill: #1967D2;\n",
              "      height: 32px;\n",
              "      padding: 0 0 0 0;\n",
              "      width: 32px;\n",
              "    }\n",
              "\n",
              "    .colab-df-convert:hover {\n",
              "      background-color: #E2EBFA;\n",
              "      box-shadow: 0px 1px 2px rgba(60, 64, 67, 0.3), 0px 1px 3px 1px rgba(60, 64, 67, 0.15);\n",
              "      fill: #174EA6;\n",
              "    }\n",
              "\n",
              "    [theme=dark] .colab-df-convert {\n",
              "      background-color: #3B4455;\n",
              "      fill: #D2E3FC;\n",
              "    }\n",
              "\n",
              "    [theme=dark] .colab-df-convert:hover {\n",
              "      background-color: #434B5C;\n",
              "      box-shadow: 0px 1px 3px 1px rgba(0, 0, 0, 0.15);\n",
              "      filter: drop-shadow(0px 1px 2px rgba(0, 0, 0, 0.3));\n",
              "      fill: #FFFFFF;\n",
              "    }\n",
              "  </style>\n",
              "\n",
              "      <script>\n",
              "        const buttonEl =\n",
              "          document.querySelector('#df-1b78dc67-c13e-4cab-8cf6-88e1fbc69a82 button.colab-df-convert');\n",
              "        buttonEl.style.display =\n",
              "          google.colab.kernel.accessAllowed ? 'block' : 'none';\n",
              "\n",
              "        async function convertToInteractive(key) {\n",
              "          const element = document.querySelector('#df-1b78dc67-c13e-4cab-8cf6-88e1fbc69a82');\n",
              "          const dataTable =\n",
              "            await google.colab.kernel.invokeFunction('convertToInteractive',\n",
              "                                                     [key], {});\n",
              "          if (!dataTable) return;\n",
              "\n",
              "          const docLinkHtml = 'Like what you see? Visit the ' +\n",
              "            '<a target=\"_blank\" href=https://colab.research.google.com/notebooks/data_table.ipynb>data table notebook</a>'\n",
              "            + ' to learn more about interactive tables.';\n",
              "          element.innerHTML = '';\n",
              "          dataTable['output_type'] = 'display_data';\n",
              "          await google.colab.output.renderOutput(dataTable, element);\n",
              "          const docLink = document.createElement('div');\n",
              "          docLink.innerHTML = docLinkHtml;\n",
              "          element.appendChild(docLink);\n",
              "        }\n",
              "      </script>\n",
              "    </div>\n",
              "  </div>\n",
              "  "
            ]
          },
          "metadata": {},
          "execution_count": 3
        }
      ],
      "source": [
        "df.head()"
      ]
    },
    {
      "cell_type": "code",
      "source": [
        "len(df)"
      ],
      "metadata": {
        "colab": {
          "base_uri": "https://localhost:8080/"
        },
        "id": "jdIT-r8G3CsI",
        "outputId": "a42f95f9-245d-4d4c-f116-627db522cf0b"
      },
      "id": "jdIT-r8G3CsI",
      "execution_count": null,
      "outputs": [
        {
          "output_type": "execute_result",
          "data": {
            "text/plain": [
              "175621"
            ]
          },
          "metadata": {},
          "execution_count": 4
        }
      ]
    },
    {
      "cell_type": "code",
      "source": [
        "df.drop_duplicates(inplace = True)"
      ],
      "metadata": {
        "id": "OCplE0_vbS6Q"
      },
      "id": "OCplE0_vbS6Q",
      "execution_count": null,
      "outputs": []
    },
    {
      "cell_type": "code",
      "source": [
        "len(df)"
      ],
      "metadata": {
        "colab": {
          "base_uri": "https://localhost:8080/"
        },
        "id": "_m6AqMCLbgmm",
        "outputId": "1bbf2050-d267-4aa9-b4fa-c0005d5aa873"
      },
      "id": "_m6AqMCLbgmm",
      "execution_count": null,
      "outputs": [
        {
          "output_type": "execute_result",
          "data": {
            "text/plain": [
              "123100"
            ]
          },
          "metadata": {},
          "execution_count": 6
        }
      ]
    },
    {
      "cell_type": "code",
      "source": [
        " pip install autocorrect"
      ],
      "metadata": {
        "id": "JdqKiNiExQvk",
        "colab": {
          "base_uri": "https://localhost:8080/"
        },
        "outputId": "10e0f9f3-69e8-442d-dbe4-71ab5aed7c2d"
      },
      "id": "JdqKiNiExQvk",
      "execution_count": null,
      "outputs": [
        {
          "output_type": "stream",
          "name": "stdout",
          "text": [
            "Looking in indexes: https://pypi.org/simple, https://us-python.pkg.dev/colab-wheels/public/simple/\n",
            "Requirement already satisfied: autocorrect in /usr/local/lib/python3.8/dist-packages (2.6.1)\n"
          ]
        }
      ]
    },
    {
      "cell_type": "code",
      "execution_count": null,
      "id": "1e45bb29",
      "metadata": {
        "id": "1e45bb29"
      },
      "outputs": [],
      "source": [
        "import nltk\n",
        "from nltk.tokenize import word_tokenize\n",
        "from autocorrect import Speller\n",
        "import re\n",
        "import string"
      ]
    },
    {
      "cell_type": "markdown",
      "id": "5eb0c42e",
      "metadata": {
        "id": "5eb0c42e"
      },
      "source": [
        "#### Removing special charcters and other tags in words"
      ]
    },
    {
      "cell_type": "code",
      "execution_count": null,
      "id": "600bfce6",
      "metadata": {
        "id": "600bfce6"
      },
      "outputs": [],
      "source": [
        "def combine_text(text):\n",
        "    combined_text = \" \".join(text)\n",
        "    return combined_text"
      ]
    },
    {
      "cell_type": "code",
      "execution_count": null,
      "id": "4389626a",
      "metadata": {
        "id": "4389626a"
      },
      "outputs": [],
      "source": [
        "def clean_text(text):\n",
        "    text = text.lower()\n",
        "    text = re.sub('\\[.*?\\]', '', text)\n",
        "    text = re.sub('https?://\\S+|www\\. \\S+', '', text)\n",
        "    text = re.sub('<.*?>+', '', text)\n",
        "    text = re.sub('[%s]' % re.escape(string.punctuation), '', text)    # to remove special characters\n",
        "    text = re.sub('\\n', '', text)\n",
        "    text = re.sub('\\w*\\d\\w*', '', text)\n",
        "    return text"
      ]
    },
    {
      "cell_type": "code",
      "execution_count": null,
      "id": "c9acbccf",
      "metadata": {
        "id": "c9acbccf"
      },
      "outputs": [],
      "source": [
        "def text_preprocessing(text):\n",
        "    \n",
        "    token = nltk.tokenize.RegexpTokenizer(r'\\w+')       \n",
        "    \n",
        "    clean_data = clean_text(text)                     #  cleaning and removing special characters\n",
        "\n",
        "    tokenized_text = token.tokenize(clean_data)      #  tokenizing sentences\n",
        "    \n",
        "    combined_text = \" \".join(tokenized_text)                    #  joining words to sentences\n",
        "\n",
        "    return combined_text"
      ]
    },
    {
      "cell_type": "code",
      "execution_count": null,
      "id": "65db916f",
      "metadata": {
        "id": "65db916f"
      },
      "outputs": [],
      "source": [
        "df['English words/sentences'] = df['English words/sentences'].apply(lambda x : text_preprocessing(x))"
      ]
    },
    {
      "cell_type": "code",
      "execution_count": null,
      "id": "d5c70962",
      "metadata": {
        "id": "d5c70962"
      },
      "outputs": [],
      "source": [
        "df.reset_index(inplace = True)"
      ]
    },
    {
      "cell_type": "code",
      "execution_count": null,
      "id": "fc888027",
      "metadata": {
        "colab": {
          "base_uri": "https://localhost:8080/"
        },
        "id": "fc888027",
        "outputId": "b9c64779-eef6-4281-9003-b1c522a0aec9"
      },
      "outputs": [
        {
          "output_type": "execute_result",
          "data": {
            "text/plain": [
              "123100"
            ]
          },
          "metadata": {},
          "execution_count": 14
        }
      ],
      "source": [
        "len(df)"
      ]
    },
    {
      "cell_type": "markdown",
      "id": "d86e690e",
      "metadata": {
        "id": "d86e690e"
      },
      "source": [
        "### Task-1\n",
        "\tYou need to translate each word or sentence from English to Spanish, French and German \n"
      ]
    },
    {
      "cell_type": "code",
      "execution_count": null,
      "id": "e9ae74dc",
      "metadata": {
        "id": "e9ae74dc",
        "colab": {
          "base_uri": "https://localhost:8080/"
        },
        "outputId": "90c1a71d-6141-49e8-b18c-794397a6f639"
      },
      "outputs": [
        {
          "output_type": "stream",
          "name": "stdout",
          "text": [
            "Looking in indexes: https://pypi.org/simple, https://us-python.pkg.dev/colab-wheels/public/simple/\n",
            "Requirement already satisfied: deep-translator in /usr/local/lib/python3.8/dist-packages (1.9.1)\n",
            "Requirement already satisfied: requests<3.0.0,>=2.23.0 in /usr/local/lib/python3.8/dist-packages (from deep-translator) (2.23.0)\n",
            "Requirement already satisfied: beautifulsoup4<5.0.0,>=4.9.1 in /usr/local/lib/python3.8/dist-packages (from deep-translator) (4.11.1)\n",
            "Requirement already satisfied: soupsieve>1.2 in /usr/local/lib/python3.8/dist-packages (from beautifulsoup4<5.0.0,>=4.9.1->deep-translator) (2.3.2.post1)\n",
            "Requirement already satisfied: urllib3!=1.25.0,!=1.25.1,<1.26,>=1.21.1 in /usr/local/lib/python3.8/dist-packages (from requests<3.0.0,>=2.23.0->deep-translator) (1.24.3)\n",
            "Requirement already satisfied: certifi>=2017.4.17 in /usr/local/lib/python3.8/dist-packages (from requests<3.0.0,>=2.23.0->deep-translator) (2022.12.7)\n",
            "Requirement already satisfied: chardet<4,>=3.0.2 in /usr/local/lib/python3.8/dist-packages (from requests<3.0.0,>=2.23.0->deep-translator) (3.0.4)\n",
            "Requirement already satisfied: idna<3,>=2.5 in /usr/local/lib/python3.8/dist-packages (from requests<3.0.0,>=2.23.0->deep-translator) (2.10)\n"
          ]
        }
      ],
      "source": [
        " pip install deep-translator"
      ]
    },
    {
      "cell_type": "code",
      "execution_count": null,
      "id": "5e42fb14",
      "metadata": {
        "id": "5e42fb14"
      },
      "outputs": [],
      "source": [
        "from deep_translator import GoogleTranslator"
      ]
    },
    {
      "cell_type": "markdown",
      "source": [
        "### English to Spanish, French and German"
      ],
      "metadata": {
        "id": "MHI0tSNq35P_"
      },
      "id": "MHI0tSNq35P_"
    },
    {
      "cell_type": "code",
      "execution_count": null,
      "id": "e582611c",
      "metadata": {
        "colab": {
          "base_uri": "https://localhost:8080/",
          "height": 36
        },
        "id": "e582611c",
        "outputId": "ff87e11e-828b-4829-bd35-dbd435f5f40c"
      },
      "outputs": [
        {
          "output_type": "execute_result",
          "data": {
            "text/plain": [
              "'Lauf'"
            ],
            "application/vnd.google.colaboratory.intrinsic+json": {
              "type": "string"
            }
          },
          "metadata": {},
          "execution_count": 17
        }
      ],
      "source": [
        "\n",
        "translated = GoogleTranslator(source='english', target='german').translate('run')\n",
        "translated"
      ]
    },
    {
      "cell_type": "code",
      "execution_count": null,
      "id": "4336f97a",
      "metadata": {
        "id": "4336f97a"
      },
      "outputs": [],
      "source": [
        "def translate(text, target):\n",
        "\n",
        "    translated = GoogleTranslator(source = 'english', target = target).translate(text)\n",
        "\n",
        "    return translated"
      ]
    },
    {
      "cell_type": "code",
      "source": [
        "words = df['English words/sentences'].to_list()\n",
        "words = set(words)\n",
        "words = list(words)"
      ],
      "metadata": {
        "id": "2zb0-bpA2dJK"
      },
      "id": "2zb0-bpA2dJK",
      "execution_count": null,
      "outputs": []
    },
    {
      "cell_type": "code",
      "source": [
        "len(words)"
      ],
      "metadata": {
        "colab": {
          "base_uri": "https://localhost:8080/"
        },
        "id": "GP_jaRHk2qHV",
        "outputId": "80c59ad9-f3b6-43ee-8ba1-f683a2216458"
      },
      "id": "GP_jaRHk2qHV",
      "execution_count": null,
      "outputs": [
        {
          "output_type": "execute_result",
          "data": {
            "text/plain": [
              "122938"
            ]
          },
          "metadata": {},
          "execution_count": 20
        }
      ]
    },
    {
      "cell_type": "code",
      "source": [
        "df_translated = pd.DataFrame()\n",
        "df_translated['english words'] = words[:100]  # slicing the first hunderd rows, since it consumes lot of time for translate"
      ],
      "metadata": {
        "id": "_x3GNOGH8jO3"
      },
      "id": "_x3GNOGH8jO3",
      "execution_count": null,
      "outputs": []
    },
    {
      "cell_type": "code",
      "execution_count": null,
      "id": "971adcd1",
      "metadata": {
        "id": "971adcd1"
      },
      "outputs": [],
      "source": [
        "translate_lang = ['german', 'spanish', 'french']\n",
        "\n",
        "for i in translate_lang:\n",
        "\n",
        "  df_translated[i] = df_translated['english words'].apply(lambda x : translate(x, i))"
      ]
    },
    {
      "cell_type": "code",
      "execution_count": null,
      "id": "3799ed4e",
      "metadata": {
        "colab": {
          "base_uri": "https://localhost:8080/",
          "height": 554
        },
        "id": "3799ed4e",
        "outputId": "e4822ba1-6421-4eb6-bd0f-e24af3a862c1"
      },
      "outputs": [
        {
          "output_type": "execute_result",
          "data": {
            "text/plain": [
              "                                     english words  \\\n",
              "0               im not going to go to school today   \n",
              "1                   i read a magazine to kill time   \n",
              "2                 i cant believe this has happened   \n",
              "3             you should try to write more legibly   \n",
              "4   what does your son want to be when he grows up   \n",
              "..                                             ...   \n",
              "95                if the alarm rings walk dont run   \n",
              "96                  trains are running on schedule   \n",
              "97              i want to go back to where we were   \n",
              "98              i dont even think about it anymore   \n",
              "99                            dont close your eyes   \n",
              "\n",
              "                                               german  \\\n",
              "0                  Ich gehe heute nicht in die Schule   \n",
              "1   Ich lese eine Zeitschrift, um die Zeit totzusc...   \n",
              "2      Ich kann nicht glauben, dass dies passiert ist   \n",
              "3   Sie sollten versuchen, besser lesbar zu schreiben   \n",
              "4          was will dein sohn werden wenn er groß ist   \n",
              "..                                                ...   \n",
              "95               wenn der Wecker klingelt, lauf nicht   \n",
              "96                           Züge verkehren planmäßig   \n",
              "97      Ich möchte dorthin zurückkehren, wo wir waren   \n",
              "98                     ich denke gar nicht mehr daran   \n",
              "99                         Schließe nicht deine Augen   \n",
              "\n",
              "                                         spanish  \\\n",
              "0                   no voy a ir a la escuela hoy   \n",
              "1           leo una revista para matar el tiempo   \n",
              "2            no puedo creer que esto haya pasado   \n",
              "3   deberías tratar de escribir más legiblemente   \n",
              "4     ¿Qué quiere ser tu hijo cuando sea grande?   \n",
              "..                                           ...   \n",
              "95           si suena la alarma camina no corras   \n",
              "96         los trenes están funcionando a tiempo   \n",
              "97               quiero volver a donde estabamos   \n",
              "98                  ya ni siquiera pienso en eso   \n",
              "99                           no cierres los ojos   \n",
              "\n",
              "                                               french  \n",
              "0                 je n'irai pas à l'école aujourd'hui  \n",
              "1               je lis un magazine pour tuer le temps  \n",
              "2           je n'arrive pas à croire que c'est arrivé  \n",
              "3      vous devriez essayer d'écrire plus lisiblement  \n",
              "4   qu'est-ce que votre fils veut être quand il se...  \n",
              "..                                                ...  \n",
              "95              si l'alarme sonne marche ne cours pas  \n",
              "96                     les trains circulent à l'heure  \n",
              "97                je veux retourner là où nous étions  \n",
              "98                             je n'y pense même plus  \n",
              "99                              ne ferme pas les yeux  \n",
              "\n",
              "[100 rows x 4 columns]"
            ],
            "text/html": [
              "\n",
              "  <div id=\"df-08cb605b-899d-464e-93c8-af220034831f\">\n",
              "    <div class=\"colab-df-container\">\n",
              "      <div>\n",
              "<style scoped>\n",
              "    .dataframe tbody tr th:only-of-type {\n",
              "        vertical-align: middle;\n",
              "    }\n",
              "\n",
              "    .dataframe tbody tr th {\n",
              "        vertical-align: top;\n",
              "    }\n",
              "\n",
              "    .dataframe thead th {\n",
              "        text-align: right;\n",
              "    }\n",
              "</style>\n",
              "<table border=\"1\" class=\"dataframe\">\n",
              "  <thead>\n",
              "    <tr style=\"text-align: right;\">\n",
              "      <th></th>\n",
              "      <th>english words</th>\n",
              "      <th>german</th>\n",
              "      <th>spanish</th>\n",
              "      <th>french</th>\n",
              "    </tr>\n",
              "  </thead>\n",
              "  <tbody>\n",
              "    <tr>\n",
              "      <th>0</th>\n",
              "      <td>im not going to go to school today</td>\n",
              "      <td>Ich gehe heute nicht in die Schule</td>\n",
              "      <td>no voy a ir a la escuela hoy</td>\n",
              "      <td>je n'irai pas à l'école aujourd'hui</td>\n",
              "    </tr>\n",
              "    <tr>\n",
              "      <th>1</th>\n",
              "      <td>i read a magazine to kill time</td>\n",
              "      <td>Ich lese eine Zeitschrift, um die Zeit totzusc...</td>\n",
              "      <td>leo una revista para matar el tiempo</td>\n",
              "      <td>je lis un magazine pour tuer le temps</td>\n",
              "    </tr>\n",
              "    <tr>\n",
              "      <th>2</th>\n",
              "      <td>i cant believe this has happened</td>\n",
              "      <td>Ich kann nicht glauben, dass dies passiert ist</td>\n",
              "      <td>no puedo creer que esto haya pasado</td>\n",
              "      <td>je n'arrive pas à croire que c'est arrivé</td>\n",
              "    </tr>\n",
              "    <tr>\n",
              "      <th>3</th>\n",
              "      <td>you should try to write more legibly</td>\n",
              "      <td>Sie sollten versuchen, besser lesbar zu schreiben</td>\n",
              "      <td>deberías tratar de escribir más legiblemente</td>\n",
              "      <td>vous devriez essayer d'écrire plus lisiblement</td>\n",
              "    </tr>\n",
              "    <tr>\n",
              "      <th>4</th>\n",
              "      <td>what does your son want to be when he grows up</td>\n",
              "      <td>was will dein sohn werden wenn er groß ist</td>\n",
              "      <td>¿Qué quiere ser tu hijo cuando sea grande?</td>\n",
              "      <td>qu'est-ce que votre fils veut être quand il se...</td>\n",
              "    </tr>\n",
              "    <tr>\n",
              "      <th>...</th>\n",
              "      <td>...</td>\n",
              "      <td>...</td>\n",
              "      <td>...</td>\n",
              "      <td>...</td>\n",
              "    </tr>\n",
              "    <tr>\n",
              "      <th>95</th>\n",
              "      <td>if the alarm rings walk dont run</td>\n",
              "      <td>wenn der Wecker klingelt, lauf nicht</td>\n",
              "      <td>si suena la alarma camina no corras</td>\n",
              "      <td>si l'alarme sonne marche ne cours pas</td>\n",
              "    </tr>\n",
              "    <tr>\n",
              "      <th>96</th>\n",
              "      <td>trains are running on schedule</td>\n",
              "      <td>Züge verkehren planmäßig</td>\n",
              "      <td>los trenes están funcionando a tiempo</td>\n",
              "      <td>les trains circulent à l'heure</td>\n",
              "    </tr>\n",
              "    <tr>\n",
              "      <th>97</th>\n",
              "      <td>i want to go back to where we were</td>\n",
              "      <td>Ich möchte dorthin zurückkehren, wo wir waren</td>\n",
              "      <td>quiero volver a donde estabamos</td>\n",
              "      <td>je veux retourner là où nous étions</td>\n",
              "    </tr>\n",
              "    <tr>\n",
              "      <th>98</th>\n",
              "      <td>i dont even think about it anymore</td>\n",
              "      <td>ich denke gar nicht mehr daran</td>\n",
              "      <td>ya ni siquiera pienso en eso</td>\n",
              "      <td>je n'y pense même plus</td>\n",
              "    </tr>\n",
              "    <tr>\n",
              "      <th>99</th>\n",
              "      <td>dont close your eyes</td>\n",
              "      <td>Schließe nicht deine Augen</td>\n",
              "      <td>no cierres los ojos</td>\n",
              "      <td>ne ferme pas les yeux</td>\n",
              "    </tr>\n",
              "  </tbody>\n",
              "</table>\n",
              "<p>100 rows × 4 columns</p>\n",
              "</div>\n",
              "      <button class=\"colab-df-convert\" onclick=\"convertToInteractive('df-08cb605b-899d-464e-93c8-af220034831f')\"\n",
              "              title=\"Convert this dataframe to an interactive table.\"\n",
              "              style=\"display:none;\">\n",
              "        \n",
              "  <svg xmlns=\"http://www.w3.org/2000/svg\" height=\"24px\"viewBox=\"0 0 24 24\"\n",
              "       width=\"24px\">\n",
              "    <path d=\"M0 0h24v24H0V0z\" fill=\"none\"/>\n",
              "    <path d=\"M18.56 5.44l.94 2.06.94-2.06 2.06-.94-2.06-.94-.94-2.06-.94 2.06-2.06.94zm-11 1L8.5 8.5l.94-2.06 2.06-.94-2.06-.94L8.5 2.5l-.94 2.06-2.06.94zm10 10l.94 2.06.94-2.06 2.06-.94-2.06-.94-.94-2.06-.94 2.06-2.06.94z\"/><path d=\"M17.41 7.96l-1.37-1.37c-.4-.4-.92-.59-1.43-.59-.52 0-1.04.2-1.43.59L10.3 9.45l-7.72 7.72c-.78.78-.78 2.05 0 2.83L4 21.41c.39.39.9.59 1.41.59.51 0 1.02-.2 1.41-.59l7.78-7.78 2.81-2.81c.8-.78.8-2.07 0-2.86zM5.41 20L4 18.59l7.72-7.72 1.47 1.35L5.41 20z\"/>\n",
              "  </svg>\n",
              "      </button>\n",
              "      \n",
              "  <style>\n",
              "    .colab-df-container {\n",
              "      display:flex;\n",
              "      flex-wrap:wrap;\n",
              "      gap: 12px;\n",
              "    }\n",
              "\n",
              "    .colab-df-convert {\n",
              "      background-color: #E8F0FE;\n",
              "      border: none;\n",
              "      border-radius: 50%;\n",
              "      cursor: pointer;\n",
              "      display: none;\n",
              "      fill: #1967D2;\n",
              "      height: 32px;\n",
              "      padding: 0 0 0 0;\n",
              "      width: 32px;\n",
              "    }\n",
              "\n",
              "    .colab-df-convert:hover {\n",
              "      background-color: #E2EBFA;\n",
              "      box-shadow: 0px 1px 2px rgba(60, 64, 67, 0.3), 0px 1px 3px 1px rgba(60, 64, 67, 0.15);\n",
              "      fill: #174EA6;\n",
              "    }\n",
              "\n",
              "    [theme=dark] .colab-df-convert {\n",
              "      background-color: #3B4455;\n",
              "      fill: #D2E3FC;\n",
              "    }\n",
              "\n",
              "    [theme=dark] .colab-df-convert:hover {\n",
              "      background-color: #434B5C;\n",
              "      box-shadow: 0px 1px 3px 1px rgba(0, 0, 0, 0.15);\n",
              "      filter: drop-shadow(0px 1px 2px rgba(0, 0, 0, 0.3));\n",
              "      fill: #FFFFFF;\n",
              "    }\n",
              "  </style>\n",
              "\n",
              "      <script>\n",
              "        const buttonEl =\n",
              "          document.querySelector('#df-08cb605b-899d-464e-93c8-af220034831f button.colab-df-convert');\n",
              "        buttonEl.style.display =\n",
              "          google.colab.kernel.accessAllowed ? 'block' : 'none';\n",
              "\n",
              "        async function convertToInteractive(key) {\n",
              "          const element = document.querySelector('#df-08cb605b-899d-464e-93c8-af220034831f');\n",
              "          const dataTable =\n",
              "            await google.colab.kernel.invokeFunction('convertToInteractive',\n",
              "                                                     [key], {});\n",
              "          if (!dataTable) return;\n",
              "\n",
              "          const docLinkHtml = 'Like what you see? Visit the ' +\n",
              "            '<a target=\"_blank\" href=https://colab.research.google.com/notebooks/data_table.ipynb>data table notebook</a>'\n",
              "            + ' to learn more about interactive tables.';\n",
              "          element.innerHTML = '';\n",
              "          dataTable['output_type'] = 'display_data';\n",
              "          await google.colab.output.renderOutput(dataTable, element);\n",
              "          const docLink = document.createElement('div');\n",
              "          docLink.innerHTML = docLinkHtml;\n",
              "          element.appendChild(docLink);\n",
              "        }\n",
              "      </script>\n",
              "    </div>\n",
              "  </div>\n",
              "  "
            ]
          },
          "metadata": {},
          "execution_count": 23
        }
      ],
      "source": [
        "df_translated"
      ]
    },
    {
      "cell_type": "markdown",
      "source": [
        "### Task-2\n",
        "####\tCreate a program that needs to automatically correct that spelling from the word or a given sentence. (Language : English) \n",
        "\n"
      ],
      "metadata": {
        "id": "dMlLcMw8CypY"
      },
      "id": "dMlLcMw8CypY"
    },
    {
      "cell_type": "code",
      "source": [
        "df_spell_check = df[['English words/sentences']][:2000]"
      ],
      "metadata": {
        "id": "oOrTmKJoC2d9"
      },
      "id": "oOrTmKJoC2d9",
      "execution_count": null,
      "outputs": []
    },
    {
      "cell_type": "markdown",
      "source": [
        "#### Using Gingerit"
      ],
      "metadata": {
        "id": "F_uwxliO1Nyw"
      },
      "id": "F_uwxliO1Nyw"
    },
    {
      "cell_type": "code",
      "source": [
        "pip install gingerit"
      ],
      "metadata": {
        "colab": {
          "base_uri": "https://localhost:8080/"
        },
        "id": "NY0TOwUlmdiP",
        "outputId": "71d32cdb-67b9-425b-c331-145320fa1476"
      },
      "id": "NY0TOwUlmdiP",
      "execution_count": null,
      "outputs": [
        {
          "output_type": "stream",
          "name": "stdout",
          "text": [
            "Looking in indexes: https://pypi.org/simple, https://us-python.pkg.dev/colab-wheels/public/simple/\n",
            "Requirement already satisfied: gingerit in /usr/local/lib/python3.8/dist-packages (0.9.0)\n",
            "Requirement already satisfied: cloudscraper<2.0.0,>=1.2.66 in /usr/local/lib/python3.8/dist-packages (from gingerit) (1.2.66)\n",
            "Requirement already satisfied: pyparsing>=2.4.7 in /usr/local/lib/python3.8/dist-packages (from cloudscraper<2.0.0,>=1.2.66->gingerit) (3.0.9)\n",
            "Requirement already satisfied: requests-toolbelt>=0.9.1 in /usr/local/lib/python3.8/dist-packages (from cloudscraper<2.0.0,>=1.2.66->gingerit) (0.10.1)\n",
            "Requirement already satisfied: requests>=2.9.2 in /usr/local/lib/python3.8/dist-packages (from cloudscraper<2.0.0,>=1.2.66->gingerit) (2.23.0)\n",
            "Requirement already satisfied: certifi>=2017.4.17 in /usr/local/lib/python3.8/dist-packages (from requests>=2.9.2->cloudscraper<2.0.0,>=1.2.66->gingerit) (2022.12.7)\n",
            "Requirement already satisfied: urllib3!=1.25.0,!=1.25.1,<1.26,>=1.21.1 in /usr/local/lib/python3.8/dist-packages (from requests>=2.9.2->cloudscraper<2.0.0,>=1.2.66->gingerit) (1.24.3)\n",
            "Requirement already satisfied: idna<3,>=2.5 in /usr/local/lib/python3.8/dist-packages (from requests>=2.9.2->cloudscraper<2.0.0,>=1.2.66->gingerit) (2.10)\n",
            "Requirement already satisfied: chardet<4,>=3.0.2 in /usr/local/lib/python3.8/dist-packages (from requests>=2.9.2->cloudscraper<2.0.0,>=1.2.66->gingerit) (3.0.4)\n"
          ]
        }
      ]
    },
    {
      "cell_type": "code",
      "source": [
        "from gingerit.gingerit import GingerIt"
      ],
      "metadata": {
        "id": "xTQ9dSWsmmuz"
      },
      "id": "xTQ9dSWsmmuz",
      "execution_count": null,
      "outputs": []
    },
    {
      "cell_type": "code",
      "source": [
        "parser = GingerIt()\n",
        "parser.parse('im wide awake')['result'].lower()"
      ],
      "metadata": {
        "colab": {
          "base_uri": "https://localhost:8080/",
          "height": 36
        },
        "id": "_dDuriN9mrNs",
        "outputId": "3b2cdc7c-f1cb-4511-9bd6-fa2443bda9eb"
      },
      "id": "_dDuriN9mrNs",
      "execution_count": null,
      "outputs": [
        {
          "output_type": "execute_result",
          "data": {
            "text/plain": [
              "\"i'm wide awake\""
            ],
            "application/vnd.google.colaboratory.intrinsic+json": {
              "type": "string"
            }
          },
          "metadata": {},
          "execution_count": 27
        }
      ]
    },
    {
      "cell_type": "code",
      "source": [
        "def spell_check(text):\n",
        "  parser = GingerIt()\n",
        "  output = parser.parse(text)\n",
        "  return output['result'].lower()"
      ],
      "metadata": {
        "id": "0SqJFyVRnqL7"
      },
      "id": "0SqJFyVRnqL7",
      "execution_count": null,
      "outputs": []
    },
    {
      "cell_type": "code",
      "source": [
        "df_spell_check['corrected_words'] = df_spell_check['English words/sentences'].apply(lambda x : spell_check(x))"
      ],
      "metadata": {
        "id": "1EA1kyFCnqCe"
      },
      "id": "1EA1kyFCnqCe",
      "execution_count": null,
      "outputs": []
    },
    {
      "cell_type": "code",
      "source": [
        "# using gingerit module\n",
        "\n",
        "df_spell_check[(df_spell_check['English words/sentences']) != (df_spell_check['corrected_words'])]"
      ],
      "metadata": {
        "colab": {
          "base_uri": "https://localhost:8080/",
          "height": 423
        },
        "id": "66V-Nb9xnq47",
        "outputId": "19d3d194-73cb-412e-de10-0ad470c44ac0"
      },
      "id": "66V-Nb9xnq47",
      "execution_count": null,
      "outputs": [
        {
          "output_type": "execute_result",
          "data": {
            "text/plain": [
              "     English words/sentences corrected_words\n",
              "30                        im             i'm\n",
              "31                     im ok          i'm ok\n",
              "81                    ill go         i'll go\n",
              "82                    im tom         i'm tom\n",
              "83                    im fat         i'm fat\n",
              "...                      ...             ...\n",
              "1987             i dont care    i don't care\n",
              "1988             i dont date    i don't date\n",
              "1989             i dont know    i don't know\n",
              "1990             i dont mind    i don't mind\n",
              "1991             i dont read    i don't read\n",
              "\n",
              "[633 rows x 2 columns]"
            ],
            "text/html": [
              "\n",
              "  <div id=\"df-be4704bd-3b6d-4248-9a90-b376b84eb382\">\n",
              "    <div class=\"colab-df-container\">\n",
              "      <div>\n",
              "<style scoped>\n",
              "    .dataframe tbody tr th:only-of-type {\n",
              "        vertical-align: middle;\n",
              "    }\n",
              "\n",
              "    .dataframe tbody tr th {\n",
              "        vertical-align: top;\n",
              "    }\n",
              "\n",
              "    .dataframe thead th {\n",
              "        text-align: right;\n",
              "    }\n",
              "</style>\n",
              "<table border=\"1\" class=\"dataframe\">\n",
              "  <thead>\n",
              "    <tr style=\"text-align: right;\">\n",
              "      <th></th>\n",
              "      <th>English words/sentences</th>\n",
              "      <th>corrected_words</th>\n",
              "    </tr>\n",
              "  </thead>\n",
              "  <tbody>\n",
              "    <tr>\n",
              "      <th>30</th>\n",
              "      <td>im</td>\n",
              "      <td>i'm</td>\n",
              "    </tr>\n",
              "    <tr>\n",
              "      <th>31</th>\n",
              "      <td>im ok</td>\n",
              "      <td>i'm ok</td>\n",
              "    </tr>\n",
              "    <tr>\n",
              "      <th>81</th>\n",
              "      <td>ill go</td>\n",
              "      <td>i'll go</td>\n",
              "    </tr>\n",
              "    <tr>\n",
              "      <th>82</th>\n",
              "      <td>im tom</td>\n",
              "      <td>i'm tom</td>\n",
              "    </tr>\n",
              "    <tr>\n",
              "      <th>83</th>\n",
              "      <td>im fat</td>\n",
              "      <td>i'm fat</td>\n",
              "    </tr>\n",
              "    <tr>\n",
              "      <th>...</th>\n",
              "      <td>...</td>\n",
              "      <td>...</td>\n",
              "    </tr>\n",
              "    <tr>\n",
              "      <th>1987</th>\n",
              "      <td>i dont care</td>\n",
              "      <td>i don't care</td>\n",
              "    </tr>\n",
              "    <tr>\n",
              "      <th>1988</th>\n",
              "      <td>i dont date</td>\n",
              "      <td>i don't date</td>\n",
              "    </tr>\n",
              "    <tr>\n",
              "      <th>1989</th>\n",
              "      <td>i dont know</td>\n",
              "      <td>i don't know</td>\n",
              "    </tr>\n",
              "    <tr>\n",
              "      <th>1990</th>\n",
              "      <td>i dont mind</td>\n",
              "      <td>i don't mind</td>\n",
              "    </tr>\n",
              "    <tr>\n",
              "      <th>1991</th>\n",
              "      <td>i dont read</td>\n",
              "      <td>i don't read</td>\n",
              "    </tr>\n",
              "  </tbody>\n",
              "</table>\n",
              "<p>633 rows × 2 columns</p>\n",
              "</div>\n",
              "      <button class=\"colab-df-convert\" onclick=\"convertToInteractive('df-be4704bd-3b6d-4248-9a90-b376b84eb382')\"\n",
              "              title=\"Convert this dataframe to an interactive table.\"\n",
              "              style=\"display:none;\">\n",
              "        \n",
              "  <svg xmlns=\"http://www.w3.org/2000/svg\" height=\"24px\"viewBox=\"0 0 24 24\"\n",
              "       width=\"24px\">\n",
              "    <path d=\"M0 0h24v24H0V0z\" fill=\"none\"/>\n",
              "    <path d=\"M18.56 5.44l.94 2.06.94-2.06 2.06-.94-2.06-.94-.94-2.06-.94 2.06-2.06.94zm-11 1L8.5 8.5l.94-2.06 2.06-.94-2.06-.94L8.5 2.5l-.94 2.06-2.06.94zm10 10l.94 2.06.94-2.06 2.06-.94-2.06-.94-.94-2.06-.94 2.06-2.06.94z\"/><path d=\"M17.41 7.96l-1.37-1.37c-.4-.4-.92-.59-1.43-.59-.52 0-1.04.2-1.43.59L10.3 9.45l-7.72 7.72c-.78.78-.78 2.05 0 2.83L4 21.41c.39.39.9.59 1.41.59.51 0 1.02-.2 1.41-.59l7.78-7.78 2.81-2.81c.8-.78.8-2.07 0-2.86zM5.41 20L4 18.59l7.72-7.72 1.47 1.35L5.41 20z\"/>\n",
              "  </svg>\n",
              "      </button>\n",
              "      \n",
              "  <style>\n",
              "    .colab-df-container {\n",
              "      display:flex;\n",
              "      flex-wrap:wrap;\n",
              "      gap: 12px;\n",
              "    }\n",
              "\n",
              "    .colab-df-convert {\n",
              "      background-color: #E8F0FE;\n",
              "      border: none;\n",
              "      border-radius: 50%;\n",
              "      cursor: pointer;\n",
              "      display: none;\n",
              "      fill: #1967D2;\n",
              "      height: 32px;\n",
              "      padding: 0 0 0 0;\n",
              "      width: 32px;\n",
              "    }\n",
              "\n",
              "    .colab-df-convert:hover {\n",
              "      background-color: #E2EBFA;\n",
              "      box-shadow: 0px 1px 2px rgba(60, 64, 67, 0.3), 0px 1px 3px 1px rgba(60, 64, 67, 0.15);\n",
              "      fill: #174EA6;\n",
              "    }\n",
              "\n",
              "    [theme=dark] .colab-df-convert {\n",
              "      background-color: #3B4455;\n",
              "      fill: #D2E3FC;\n",
              "    }\n",
              "\n",
              "    [theme=dark] .colab-df-convert:hover {\n",
              "      background-color: #434B5C;\n",
              "      box-shadow: 0px 1px 3px 1px rgba(0, 0, 0, 0.15);\n",
              "      filter: drop-shadow(0px 1px 2px rgba(0, 0, 0, 0.3));\n",
              "      fill: #FFFFFF;\n",
              "    }\n",
              "  </style>\n",
              "\n",
              "      <script>\n",
              "        const buttonEl =\n",
              "          document.querySelector('#df-be4704bd-3b6d-4248-9a90-b376b84eb382 button.colab-df-convert');\n",
              "        buttonEl.style.display =\n",
              "          google.colab.kernel.accessAllowed ? 'block' : 'none';\n",
              "\n",
              "        async function convertToInteractive(key) {\n",
              "          const element = document.querySelector('#df-be4704bd-3b6d-4248-9a90-b376b84eb382');\n",
              "          const dataTable =\n",
              "            await google.colab.kernel.invokeFunction('convertToInteractive',\n",
              "                                                     [key], {});\n",
              "          if (!dataTable) return;\n",
              "\n",
              "          const docLinkHtml = 'Like what you see? Visit the ' +\n",
              "            '<a target=\"_blank\" href=https://colab.research.google.com/notebooks/data_table.ipynb>data table notebook</a>'\n",
              "            + ' to learn more about interactive tables.';\n",
              "          element.innerHTML = '';\n",
              "          dataTable['output_type'] = 'display_data';\n",
              "          await google.colab.output.renderOutput(dataTable, element);\n",
              "          const docLink = document.createElement('div');\n",
              "          docLink.innerHTML = docLinkHtml;\n",
              "          element.appendChild(docLink);\n",
              "        }\n",
              "      </script>\n",
              "    </div>\n",
              "  </div>\n",
              "  "
            ]
          },
          "metadata": {},
          "execution_count": 30
        }
      ]
    }
  ],
  "metadata": {
    "kernelspec": {
      "display_name": "Python 3 (ipykernel)",
      "language": "python",
      "name": "python3"
    },
    "language_info": {
      "codemirror_mode": {
        "name": "ipython",
        "version": 3
      },
      "file_extension": ".py",
      "mimetype": "text/x-python",
      "name": "python",
      "nbconvert_exporter": "python",
      "pygments_lexer": "ipython3",
      "version": "3.8.8"
    },
    "colab": {
      "provenance": []
    }
  },
  "nbformat": 4,
  "nbformat_minor": 5
}